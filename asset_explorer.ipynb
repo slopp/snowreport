{
 "cells": [
  {
   "cell_type": "code",
   "execution_count": 1,
   "metadata": {},
   "outputs": [
    {
     "name": "stdout",
     "output_type": "stream",
     "text": [
      "env: DAGSTER_HOME=/home/lopp/snowreport\n"
     ]
    }
   ],
   "source": [
    "%env DAGSTER_HOME=/home/lopp/snowreport"
   ]
  },
  {
   "cell_type": "code",
   "execution_count": 2,
   "metadata": {},
   "outputs": [
    {
     "data": {
      "text/plain": [
       "{'USER': 'lopp',\n",
       " 'SSH_CLIENT': '104.132.147.68 59295 22',\n",
       " 'XDG_SESSION_TYPE': 'tty',\n",
       " 'SHLVL': '1',\n",
       " 'MOTD_SHOWN': 'pam',\n",
       " 'HOME': '/home/lopp',\n",
       " 'DBUS_SESSION_BUS_ADDRESS': 'unix:path=/run/user/1002/bus',\n",
       " 'LOGNAME': 'lopp',\n",
       " '_': '/home/lopp/env/bin/python',\n",
       " 'XDG_SESSION_CLASS': 'user',\n",
       " 'XDG_SESSION_ID': '3',\n",
       " 'PATH': '/home/lopp/env/bin:/home/lopp/.vscode-server/bin/74b1f979648cc44d385a2286793c226e611f59e7/bin/remote-cli:/usr/local/bin:/usr/bin:/bin:/usr/local/games:/usr/games',\n",
       " 'VSCODE_AGENT_FOLDER': '/home/lopp/.vscode-server',\n",
       " 'XDG_RUNTIME_DIR': '/run/user/1002',\n",
       " 'LANG': 'C.UTF-8',\n",
       " 'SHELL': '/bin/bash',\n",
       " 'PWD': '/home/lopp',\n",
       " 'SSH_CONNECTION': '104.132.147.68 59295 10.128.0.2 22',\n",
       " 'VSCODE_HANDLES_SIGPIPE': 'true',\n",
       " 'LS_COLORS': '',\n",
       " 'VSCODE_AMD_ENTRYPOINT': 'vs/workbench/api/node/extensionHostProcess',\n",
       " 'VSCODE_HANDLES_UNCAUGHT_ERRORS': 'true',\n",
       " 'VSCODE_NLS_CONFIG': '{\"locale\":\"en\",\"availableLanguages\":{}}',\n",
       " 'BROWSER': '/home/lopp/.vscode-server/bin/74b1f979648cc44d385a2286793c226e611f59e7/bin/helpers/browser.sh',\n",
       " 'VSCODE_CWD': '/home/lopp',\n",
       " 'ELECTRON_RUN_AS_NODE': '1',\n",
       " 'VSCODE_IPC_HOOK_CLI': '/run/user/1002/vscode-ipc-156f4a9a-e669-4cc8-9ae8-dc52eeda47f8.sock',\n",
       " 'APPLICATION_INSIGHTS_NO_DIAGNOSTIC_CHANNEL': '1',\n",
       " 'PYTHONUNBUFFERED': '1',\n",
       " 'VIRTUAL_ENV': '/home/lopp/env',\n",
       " 'PYTHONIOENCODING': 'utf-8',\n",
       " 'PS1': '(env) ',\n",
       " 'TERM': 'xterm-color',\n",
       " 'CLICOLOR': '1',\n",
       " 'PAGER': 'cat',\n",
       " 'GIT_PAGER': 'cat',\n",
       " 'MPLBACKEND': 'module://matplotlib_inline.backend_inline',\n",
       " 'PYDEVD_IPYTHON_COMPATIBLE_DEBUGGING': '1',\n",
       " 'DAGSTER_HOME': '/home/lopp/snowreport'}"
      ]
     },
     "execution_count": 2,
     "metadata": {},
     "output_type": "execute_result"
    }
   ],
   "source": [
    "%env"
   ]
  },
  {
   "cell_type": "code",
   "execution_count": null,
   "metadata": {},
   "outputs": [],
   "source": [
    "%env DAGSTER_DEPLOYMENT=local"
   ]
  },
  {
   "cell_type": "code",
   "execution_count": null,
   "metadata": {},
   "outputs": [],
   "source": [
    "from snowreport import snowreport\n",
    "from dagster import AssetKey\n",
    "import os\n",
    "\n",
    "print(os.environ[\"DAGSTER_HOME\"])\n",
    "    "
   ]
  },
  {
   "cell_type": "code",
   "execution_count": null,
   "metadata": {},
   "outputs": [],
   "source": [
    "report_summary = snowreport.load_asset_value(AssetKey(\"eldora\"))\n",
    "\n",
    "report_summary"
   ]
  }
 ],
 "metadata": {
  "kernelspec": {
   "display_name": "Python 3.9.2 ('env')",
   "language": "python",
   "name": "python3"
  },
  "language_info": {
   "codemirror_mode": {
    "name": "ipython",
    "version": 3
   },
   "file_extension": ".py",
   "mimetype": "text/x-python",
   "name": "python",
   "nbconvert_exporter": "python",
   "pygments_lexer": "ipython3",
   "version": "3.9.2"
  },
  "orig_nbformat": 4,
  "vscode": {
   "interpreter": {
    "hash": "da0c6d2e651cab2816007a653b8c48b3797e55e17330142d2b22d76a1d82a96e"
   }
  }
 },
 "nbformat": 4,
 "nbformat_minor": 2
}
