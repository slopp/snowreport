{
 "cells": [
  {
   "cell_type": "code",
   "execution_count": 1,
   "metadata": {},
   "outputs": [
    {
     "name": "stdout",
     "output_type": "stream",
     "text": [
      "env: DAGSTER_HOME=/home/lopp/snowreport\n"
     ]
    }
   ],
   "source": [
    "%env DAGSTER_HOME=/home/lopp/snowreport"
   ]
  },
  {
   "cell_type": "code",
   "execution_count": null,
   "metadata": {},
   "outputs": [],
   "source": [
    "%env"
   ]
  },
  {
   "cell_type": "code",
   "execution_count": 2,
   "metadata": {},
   "outputs": [
    {
     "name": "stdout",
     "output_type": "stream",
     "text": [
      "env: DAGSTER_DEPLOYMENT=local\n"
     ]
    }
   ],
   "source": [
    "%env DAGSTER_DEPLOYMENT=local"
   ]
  },
  {
   "cell_type": "code",
   "execution_count": 4,
   "metadata": {},
   "outputs": [
    {
     "name": "stdout",
     "output_type": "stream",
     "text": [
      "/home/lopp/snowreport\n"
     ]
    }
   ],
   "source": [
    "from snowreport import snowreport\n",
    "from dagster import AssetKey\n",
    "import os\n",
    "\n",
    "print(os.environ[\"DAGSTER_HOME\"])\n",
    "    "
   ]
  },
  {
   "cell_type": "code",
   "execution_count": 5,
   "metadata": {},
   "outputs": [
    {
     "ename": "IsADirectoryError",
     "evalue": "[Errno 21] Is a directory: '/home/lopp/snowreport/storage/eldora'",
     "output_type": "error",
     "traceback": [
      "\u001b[0;31m---------------------------------------------------------------------------\u001b[0m",
      "\u001b[0;31mIsADirectoryError\u001b[0m                         Traceback (most recent call last)",
      "Cell \u001b[0;32mIn [5], line 1\u001b[0m\n\u001b[0;32m----> 1\u001b[0m report_summary \u001b[38;5;241m=\u001b[39m snowreport\u001b[38;5;241m.\u001b[39mload_asset_value(AssetKey(\u001b[38;5;124m\"\u001b[39m\u001b[38;5;124meldora\u001b[39m\u001b[38;5;124m\"\u001b[39m))\n\u001b[1;32m      3\u001b[0m report_summary\n",
      "File \u001b[0;32m~/env/lib/python3.9/site-packages/dagster/_core/definitions/repository_definition.py:1351\u001b[0m, in \u001b[0;36mRepositoryDefinition.load_asset_value\u001b[0;34m(self, asset_key, python_type, instance)\u001b[0m\n\u001b[1;32m   1348\u001b[0m \u001b[39mfrom\u001b[39;00m \u001b[39mdagster\u001b[39;00m\u001b[39m.\u001b[39;00m\u001b[39m_core\u001b[39;00m\u001b[39m.\u001b[39;00m\u001b[39mstorage\u001b[39;00m\u001b[39m.\u001b[39;00m\u001b[39masset_value_loader\u001b[39;00m \u001b[39mimport\u001b[39;00m AssetValueLoader\n\u001b[1;32m   1350\u001b[0m \u001b[39mwith\u001b[39;00m AssetValueLoader(\u001b[39mself\u001b[39m\u001b[39m.\u001b[39m_assets_defs_by_key, instance\u001b[39m=\u001b[39minstance) \u001b[39mas\u001b[39;00m loader:\n\u001b[0;32m-> 1351\u001b[0m     \u001b[39mreturn\u001b[39;00m loader\u001b[39m.\u001b[39;49mload_asset_value(asset_key, python_type\u001b[39m=\u001b[39;49mpython_type)\n",
      "File \u001b[0;32m~/env/lib/python3.9/site-packages/dagster/_core/storage/asset_value_loader.py:93\u001b[0m, in \u001b[0;36mAssetValueLoader.load_asset_value\u001b[0;34m(self, asset_key, python_type)\u001b[0m\n\u001b[1;32m     82\u001b[0m io_manager_config \u001b[39m=\u001b[39m get_mapped_resource_config({io_manager_key: io_manager_def}, {})\n\u001b[1;32m     84\u001b[0m input_context \u001b[39m=\u001b[39m build_input_context(\n\u001b[1;32m     85\u001b[0m     name\u001b[39m=\u001b[39m\u001b[39mNone\u001b[39;00m,\n\u001b[1;32m     86\u001b[0m     asset_key\u001b[39m=\u001b[39masset_key,\n\u001b[0;32m   (...)\u001b[0m\n\u001b[1;32m     90\u001b[0m     resource_config\u001b[39m=\u001b[39mio_manager_config[io_manager_key]\u001b[39m.\u001b[39mconfig,\n\u001b[1;32m     91\u001b[0m )\n\u001b[0;32m---> 93\u001b[0m \u001b[39mreturn\u001b[39;00m io_manager\u001b[39m.\u001b[39;49mload_input(input_context)\n",
      "File \u001b[0;32m~/env/lib/python3.9/site-packages/dagster/_core/storage/fs_io_manager.py:181\u001b[0m, in \u001b[0;36mPickledObjectFilesystemIOManager.load_input\u001b[0;34m(self, context)\u001b[0m\n\u001b[1;32m    178\u001b[0m filepath \u001b[39m=\u001b[39m \u001b[39mself\u001b[39m\u001b[39m.\u001b[39m_get_path(context)\n\u001b[1;32m    179\u001b[0m context\u001b[39m.\u001b[39madd_input_metadata({\u001b[39m\"\u001b[39m\u001b[39mpath\u001b[39m\u001b[39m\"\u001b[39m: MetadataValue\u001b[39m.\u001b[39mpath(os\u001b[39m.\u001b[39mpath\u001b[39m.\u001b[39mabspath(filepath))})\n\u001b[0;32m--> 181\u001b[0m \u001b[39mwith\u001b[39;00m \u001b[39mopen\u001b[39;49m(filepath, \u001b[39mself\u001b[39;49m\u001b[39m.\u001b[39;49mread_mode) \u001b[39mas\u001b[39;00m read_obj:\n\u001b[1;32m    182\u001b[0m     \u001b[39mreturn\u001b[39;00m pickle\u001b[39m.\u001b[39mload(read_obj)\n",
      "\u001b[0;31mIsADirectoryError\u001b[0m: [Errno 21] Is a directory: '/home/lopp/snowreport/storage/eldora'"
     ]
    }
   ],
   "source": [
    "report_summary = snowreport.load_asset_value(AssetKey(\"eldora\"))\n",
    "\n",
    "report_summary"
   ]
  }
 ],
 "metadata": {
  "kernelspec": {
   "display_name": "Python 3.9.2 ('env')",
   "language": "python",
   "name": "python3"
  },
  "language_info": {
   "codemirror_mode": {
    "name": "ipython",
    "version": 3
   },
   "file_extension": ".py",
   "mimetype": "text/x-python",
   "name": "python",
   "nbconvert_exporter": "python",
   "pygments_lexer": "ipython3",
   "version": "3.9.2"
  },
  "orig_nbformat": 4,
  "vscode": {
   "interpreter": {
    "hash": "da0c6d2e651cab2816007a653b8c48b3797e55e17330142d2b22d76a1d82a96e"
   }
  }
 },
 "nbformat": 4,
 "nbformat_minor": 2
}
